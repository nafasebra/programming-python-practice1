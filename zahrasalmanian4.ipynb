{
  "nbformat": 4,
  "nbformat_minor": 0,
  "metadata": {
    "colab": {
      "provenance": []
    },
    "kernelspec": {
      "name": "python3",
      "display_name": "Python 3"
    },
    "language_info": {
      "name": "python"
    }
  },
  "cells": [
    {
      "cell_type": "code",
      "execution_count": 9,
      "metadata": {
        "colab": {
          "base_uri": "https://localhost:8080/"
        },
        "id": "Wt1yJ0YvJn0w",
        "outputId": "6e0e9991-a1f1-4287-e8ff-09fcd0051cb0"
      },
      "outputs": [
        {
          "output_type": "stream",
          "name": "stdout",
          "text": [
            "Enter a string: Ali\n",
            "Converted string:  aLI\n"
          ]
        }
      ],
      "source": [
        "a = input('Enter a string: ')\n",
        "\n",
        "for i in range(0, len(a)):\n",
        "  if(a[i].islower()):\n",
        "    a = a.replace(a[i], a[i].upper())\n",
        "  elif(a[i].isupper()):\n",
        "    a = a.replace(a[i], a[i].lower())\n",
        "  else:\n",
        "    pass\n",
        "\n",
        "print(\"Converted string: \", a)"
      ]
    }
  ]
}