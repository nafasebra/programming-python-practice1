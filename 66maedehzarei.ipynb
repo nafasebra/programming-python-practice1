{
  "nbformat": 4,
  "nbformat_minor": 0,
  "metadata": {
    "colab": {
      "provenance": []
    },
    "kernelspec": {
      "name": "python3",
      "display_name": "Python 3"
    },
    "language_info": {
      "name": "python"
    }
  },
  "cells": [
    {
      "cell_type": "code",
      "execution_count": null,
      "metadata": {
        "colab": {
          "base_uri": "https://localhost:8080/",
          "height": 144
        },
        "id": "3F8Nu4yTTkLN",
        "outputId": "88cdf76f-d28b-4678-ef57-3b082b560294"
      },
      "outputs": [
        {
          "output_type": "error",
          "ename": "SyntaxError",
          "evalue": "ignored",
          "traceback": [
            "\u001b[0;36m  File \u001b[0;32m\"<ipython-input-1-e917a566b524>\"\u001b[0;36m, line \u001b[0;32m40\u001b[0m\n\u001b[0;31m    ]\u001b[0m\n\u001b[0m    ^\u001b[0m\n\u001b[0;31mSyntaxError\u001b[0m\u001b[0;31m:\u001b[0m closing parenthesis ']' does not match opening parenthesis '{' on line 10\n"
          ]
        }
      ],
      "source": [
        "num1s1 = int(input(\"enter first grade first student:\"))\n",
        "num2s1 = int(input(\"enter second grade first student:\"))\n",
        "num3s1 = int(input(\"enter third grade first student:\"))\n",
        "\n",
        "num1s2 = int(input(\"enter first grade first student:\"))\n",
        "num2s2 = int(input(\"enter first grade first student:\"))\n",
        "num3s2 = int(input(\"enter first grade first student:\"))\n",
        "\n",
        "data = [\n",
        "    {\n",
        "        \"student\": \"a\",\n",
        "        \"lesson\":[\n",
        "            {\n",
        "                \"name\": \"math1\"\n",
        "                \"grade\":num1s1\n",
        "            }, {\n",
        "                \"name\": \"math2\"\n",
        "                \"grade\":num2s1\n",
        "                 }, {\n",
        "                      \"name\": \"math3\"\n",
        "                \"grade\":num3s1\n",
        "\n",
        "                 }\n",
        "        ]\n",
        "        {\n",
        "            \"student\": \"b\",\n",
        "        \"lesson\":[\n",
        "             {\n",
        "                \"name\": \"math1\"\n",
        "                \"grade\":num1s2\n",
        "            }, {\n",
        "                \"name\": \"math2\"\n",
        "                \"grade\":num2s2\n",
        "                 }, {\n",
        "                      \"name\": \"math3\"\n",
        "                \"grade\":num3s2\n",
        "                 }\n",
        "             ]\n",
        "        }\n",
        "]\n",
        "print(\"your  grades:\")\n",
        "f0r x in data:\n",
        "print(x[\"student\"])\n",
        "for grade in x[\"lesson\"]:\n",
        "  print(\"your  average of grade:\")\n",
        "f0r x in data:\n",
        "sumnum = 0\n",
        "for grade in x[\"lesson\"]:\n",
        "  sumnum+=grade[\"grade\"]\n",
        "  print(x[\"student\"])\n",
        "  print(sumnum/3)\n",
        "\n",
        "  print(\"the minimum and maximum of grades:\")\n",
        "  for x in data:\n",
        "    minnum = 0\n",
        "    maxnum = 0\n",
        "    for grade in x[\"lesson\"]\n",
        "    if(grade[\"grade\"] > maxnum):\n",
        "      maxnum = grade[\"grade\"]\n",
        "      elif(grade[\"grade\"] < minnum)\n",
        "      print(x[\"student\"])\n",
        "      print(minnum,maxnum)\n",
        "\n",
        "\n",
        "\n",
        "\n",
        "                 }\n",
        "        ]\n",
        "        {\n",
        "\n",
        "\n",
        "            }\n",
        "        ]\n",
        "    }\n",
        "]\n"
      ]
    }
  ]
}