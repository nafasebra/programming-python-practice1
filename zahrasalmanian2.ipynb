{
  "nbformat": 4,
  "nbformat_minor": 0,
  "metadata": {
    "colab": {
      "provenance": [],
      "authorship_tag": "ABX9TyN2SYH5H4gsOvPRv+/rVH8e",
      "include_colab_link": true
    },
    "kernelspec": {
      "name": "python3",
      "display_name": "Python 3"
    },
    "language_info": {
      "name": "python"
    }
  },
  "cells": [
    {
      "cell_type": "markdown",
      "metadata": {
        "id": "view-in-github",
        "colab_type": "text"
      },
      "source": [
        "<a href=\"https://colab.research.google.com/github/nafasebra/programming-python-practice1/blob/session-2/zahrasalmanian2.ipynb\" target=\"_parent\"><img src=\"https://colab.research.google.com/assets/colab-badge.svg\" alt=\"Open In Colab\"/></a>"
      ]
    },
    {
      "cell_type": "code",
      "execution_count": null,
      "metadata": {
        "colab": {
          "base_uri": "https://localhost:8080/"
        },
        "id": "yW2Fe3oRhj1n",
        "outputId": "cfe96e1f-e9e1-4a40-f03f-b76685d5ee7f"
      },
      "outputs": [
        {
          "output_type": "stream",
          "name": "stdout",
          "text": [
            "enter number:313\n",
            "panj shanbe\n"
          ]
        }
      ],
      "source": [
        "n=int(input(\"enter number:\"))\n",
        "m=n%7\n",
        "if m==0:\n",
        " print (\"shanbe\")\n",
        "elif m==1:\n",
        " print (\"yek shanbe\")\n",
        "elif m==2:\n",
        " print (\"do shanbe\")\n",
        "elif m==3:\n",
        " print (\"se shanbe\")\n",
        "elif m==4:\n",
        " print (\"chahar shanbe\")\n",
        "elif m==5:\n",
        " print (\"panj shanbe\")\n",
        "elif m==6:\n",
        " print (\"jome\")"
      ]
    }
  ]
}