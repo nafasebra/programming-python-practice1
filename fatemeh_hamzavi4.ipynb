{
  "nbformat": 4,
  "nbformat_minor": 0,
  "metadata": {
    "colab": {
      "provenance": []
    },
    "kernelspec": {
      "name": "python3",
      "display_name": "Python 3"
    },
    "language_info": {
      "name": "python"
    }
  },
  "cells": [
    {
      "cell_type": "code",
      "execution_count": 12,
      "metadata": {
        "colab": {
          "base_uri": "https://localhost:8080/"
        },
        "id": "Wt1yJ0YvJn0w",
        "outputId": "87db41ca-60d5-4dc4-8937-2d6e5bfe6a9f"
      },
      "outputs": [
        {
          "output_type": "stream",
          "name": "stdout",
          "text": [
            "Enter a string: Fat\n",
            "Converted string:  fAT\n"
          ]
        }
      ],
      "source": [
        "st = input('Enter a string: ')\n",
        "\n",
        "for i in range(0, len(st)):\n",
        "  if(st[i].islower()):\n",
        "    st = st.replace(st[i], st[i].upper())\n",
        "  elif(st[i].isupper()):\n",
        "    st = st.replace(st[i], st[i].lower())\n",
        "  else:\n",
        "    pass\n",
        "\n",
        "print(\"Converted string: \", st)"
      ]
    }
  ]
}