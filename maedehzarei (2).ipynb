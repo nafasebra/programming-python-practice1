{
  "nbformat": 4,
  "nbformat_minor": 0,
  "metadata": {
    "colab": {
      "provenance": []
    },
    "kernelspec": {
      "name": "python3",
      "display_name": "Python 3"
    },
    "language_info": {
      "name": "python"
    }
  },
  "cells": [
    {
      "cell_type": "code",
      "execution_count": null,
      "metadata": {
        "id": "97f3AmgAHlRX"
      },
      "outputs": [],
      "source": [
        "import random\n",
        "\n",
        "def generate_array(n):\n",
        "    array = []\n",
        "    for _ in range(n):\n",
        "        array.append(random.randint(0, 100))\n",
        "    return array\n",
        "\n",
        "def print_min_max(array):\n",
        "    min_value = min(array)\n",
        "    max_value = max(array)\n",
        "    print(\"کوچکترین عنصر ارایه\", min_value)\n",
        "    print(\"بزرگترين عنصر ارايه \", max_value)\n",
        "\n",
        "def print_second_min_max(array):\n",
        "    sorted_array = sorted(array)\n",
        "    second_min_value = sorted_array[1]\n",
        "    second_max_value = sorted_array[-2]\n",
        "    print(\"دومين کوچک ترين مقدار ارايه: \", second_min_value)\n",
        "    print(\"دومين بزرگترين مقدار ارايه: \", second_max_value)\n",
        "\n",
        "def reverse_array(array):\n",
        "    reversed_array = array[::-1]\n",
        "    print(\"برعکس ارايه: \", reversed_array)\n",
        "\n",
        "def print_average(array):\n",
        "    average = sum(array) / len(array)\n",
        "    print(\"ميانگين ارايه: \", average)\n",
        "\n",
        "n = int(input(\"عدد دلخواه را جهت ساخت آرايه وارد کنيد :\"))\n",
        "array = generate_array(n)\n",
        "\n",
        "print(\"آرايه: \", array)\n",
        "print_min_max(array)\n",
        "print_second_min_max(array)\n",
        "reverse_array(array)\n",
        "print_average(array)"
      ]
    }
  ]
}