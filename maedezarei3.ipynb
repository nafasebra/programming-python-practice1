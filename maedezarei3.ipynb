{
  "nbformat": 4,
  "nbformat_minor": 0,
  "metadata": {
    "colab": {
      "provenance": []
    },
    "kernelspec": {
      "name": "python3",
      "display_name": "Python 3"
    },
    "language_info": {
      "name": "python"
    }
  },
  "cells": [
    {
      "cell_type": "code",
      "execution_count": null,
      "metadata": {
        "id": "vQByj1SElwlp"
      },
      "outputs": [],
      "source": [
        "def fact1(m):\n",
        "  if m<1:\n",
        "    return 1\n",
        "  else:\n",
        "     return\n",
        "\n",
        "     n=int(input(\"enter n:\"))\n",
        "     x=int(input(\"enter x:\"))\n",
        "     sum=0\n",
        "     for i in range(1,n+1):\n",
        "      sum=sum+((x**(i+2))/(fact1(i+2)))*(-1**i)\n",
        "      print(sum)"
      ]
    }
  ]
}