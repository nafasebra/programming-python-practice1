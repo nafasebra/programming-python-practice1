{
  "nbformat": 4,
  "nbformat_minor": 0,
  "metadata": {
    "colab": {
      "provenance": []
    },
    "kernelspec": {
      "name": "python3",
      "display_name": "Python 3"
    },
    "language_info": {
      "name": "python"
    }
  },
  "cells": [
    {
      "cell_type": "code",
      "execution_count": null,
      "metadata": {
        "id": "5XBdWDM5A19l"
      },
      "outputs": [],
      "source": [
        "def charChange(str):\n",
        " s=\"\"\n",
        "for i in range(0.len(str)):\n",
        "   if str[i].islower()=True\n",
        "      s +=str[i].uppcr()\n",
        "  else:\n",
        "      s +=str[i].lower()\n",
        "   return s\n",
        "  str=input(\"Enter a string:\")\n",
        " str=charChange(str)\n",
        " print(\"Result is\",str)"
      ]
    }
  ]
}